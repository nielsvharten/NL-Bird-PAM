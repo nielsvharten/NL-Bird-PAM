{
 "cells": [
  {
   "cell_type": "markdown",
   "id": "332e8050-49a0-4ace-9b30-b5a3d9315401",
   "metadata": {},
   "source": [
    "# Evaluate test set"
   ]
  },
  {
   "cell_type": "code",
   "execution_count": 1,
   "id": "f1d831de-d665-493b-85f7-fb9a42b681e3",
   "metadata": {},
   "outputs": [],
   "source": [
    "import torch\n",
    "from d2l import torch as d2l\n",
    "import pandas as pd\n",
    "import numpy as np\n",
    "from torchmetrics.classification import MultilabelAUROC, BinaryAUROC\n",
    "from torch.utils.data import DataLoader\n",
    "import sys\n",
    "import os\n",
    "\n",
    "sys.path.append(\"C:\\\\Users\\\\niels\\\\Documents\\\\Github\\\\Birds-NL-PAM\\\\\")\n",
    "\n",
    "import config as cfg\n",
    "from Dataset import EvaluationDataset\n",
    "from Classifier import Classifier\n",
    "\n",
    "DIR = cfg.DATASET_DIR"
   ]
  },
  {
   "cell_type": "code",
   "execution_count": 5,
   "id": "15080814-0773-4925-8d80-cb2db22dd5ab",
   "metadata": {},
   "outputs": [],
   "source": [
    "def get_sample_predictions(sample_scores: np.ndarray, thresholds):\n",
    "    return torch.where(sample_scores >= thresholds, 1, 0)\n",
    "\n",
    "\n",
    "def evaluate_samples(sample_scores, sample_targets):\n",
    "    n_samples = len(sample_scores)\n",
    "    n_classes = len(sample_scores[0])\n",
    "\n",
    "    predictions = get_sample_predictions(sample_scores, 0.50)\n",
    "\n",
    "    tps = torch.sum(sample_targets * predictions, axis=0)\n",
    "    fps = torch.sum(predictions, axis=0) - tps\n",
    "    fns = torch.sum(sample_targets, axis=0) - tps\n",
    "\n",
    "    print(\"tps\", sum(tps))\n",
    "    print(\"fps\", sum(fps))\n",
    "    print(\"fns\", sum(fns))\n",
    "    return tps, fps, fns\n",
    "\n",
    "\n",
    "def store_predictions(net, device, species_list):\n",
    "    net.eval()\n",
    "\n",
    "    input_dir = \"C:/Users/niels/Documents/Github/Birds-NL-PAM/dataset/test/embeddings/\"\n",
    "    input_files = next(os.walk(input_dir))[2]\n",
    "    \n",
    "    with torch.no_grad():\n",
    "        # single example, multiple embeddings\n",
    "        for file in input_files:\n",
    "            # load embeddings\n",
    "            X = torch.from_numpy(np.load(input_dir + file))\n",
    "            # send batch samples to GPU\n",
    "            X = X.to(device)\n",
    "            # make predictions\n",
    "            y_hat = net(X)\n",
    "            # save predictions as npy\n",
    "            sample_scores = y_hat.cpu().numpy()\n",
    "            sample_scores = np.max(sample_scores, axis=0)\n",
    "            \n",
    "            output_path = \"C:/Users/niels/Documents/Github/Birds-NL-PAM/dataset/test/own-predictions/\" + file\n",
    "            np.save(output_path, sample_scores)\n",
    "\n",
    "\n",
    "def evaluate_val_data(net, val_data, device):\n",
    "    net.eval()\n",
    "    \n",
    "    preds = []; target = []\n",
    "    with torch.no_grad():\n",
    "        # single example, multiple embeddings\n",
    "        for X, y in val_data:\n",
    "            # send batch samples to GPU\n",
    "            X, y = X.to(device), y.to(device)\n",
    "            # make predictions, get max pred for each class\n",
    "            y_hat = net(X)\n",
    "            y_hat = torch.amax(y_hat, axis=0)\n",
    "            #print(torch.where(y > 0.5, y_hat, 0))\n",
    "            # compute loss\n",
    "            #l = loss(y_hat, y)\n",
    "            # store metrics\n",
    "            preds.append(y_hat)\n",
    "            target.append(y)\n",
    "    \n",
    "    preds = torch.stack(preds)\n",
    "    target = torch.where(torch.stack(target) >= 0.5, 1, 0)\n",
    "    \n",
    "    ml_auroc = BinaryAUROC()\n",
    "    val_aucs = []\n",
    "    n_classes = target.shape[-1]\n",
    "    \n",
    "    for i in range(n_classes):\n",
    "        if torch.amax(target[:,i]) > 0.1:\n",
    "            val_auc = ml_auroc(preds[:,i], target[:,i]).cpu()\n",
    "            val_aucs.append(val_auc)\n",
    "\n",
    "    print(sum(val_aucs) / len(val_aucs))"
   ]
  },
  {
   "cell_type": "code",
   "execution_count": 7,
   "id": "9e7167fa-2e62-4ef1-8e53-a0ffa8744d88",
   "metadata": {
    "editable": true,
    "slideshow": {
     "slide_type": ""
    },
    "tags": []
   },
   "outputs": [
    {
     "name": "stdout",
     "output_type": "stream",
     "text": [
      "torch.Size([3, 1280])\n",
      "tensor(0.9659)\n"
     ]
    }
   ],
   "source": [
    "model_path = 'C:/Users/niels/Documents/Github/Birds-NL-PAM/train/model_nosec.pt'\n",
    "model = torch.load(model_path).to(d2l.try_gpu())\n",
    "\n",
    "species_list = pd.read_csv(cfg.SPECIES_FILE_PATH, index_col=0)\n",
    "classes = species_list['latin_name'].values.tolist()\n",
    "val_data = EvaluationDataset(classes, DIR, 'val')\n",
    "\n",
    "sample_x, sample_y = next(iter(val_data))\n",
    "print(sample_x.shape)\n",
    "evaluate_val_data(model, val_data, d2l.try_gpu())\n",
    "store_predictions(model, d2l.try_gpu(), species_list)\n"
   ]
  },
  {
   "cell_type": "code",
   "execution_count": null,
   "id": "c21e8f98-cf46-4625-9a76-a6179e5116b3",
   "metadata": {},
   "outputs": [],
   "source": []
  }
 ],
 "metadata": {
  "kernelspec": {
   "display_name": "Python 3 (ipykernel)",
   "language": "python",
   "name": "python3"
  },
  "language_info": {
   "codemirror_mode": {
    "name": "ipython",
    "version": 3
   },
   "file_extension": ".py",
   "mimetype": "text/x-python",
   "name": "python",
   "nbconvert_exporter": "python",
   "pygments_lexer": "ipython3",
   "version": "3.10.11"
  }
 },
 "nbformat": 4,
 "nbformat_minor": 5
}
